{
 "cells": [
  {
   "cell_type": "code",
   "execution_count": 1,
   "id": "c50d6bc2",
   "metadata": {},
   "outputs": [
    {
     "name": "stdout",
     "output_type": "stream",
     "text": [
      "Hello World!\n"
     ]
    }
   ],
   "source": [
    "print(\"Hello World!\")"
   ]
  },
  {
   "cell_type": "code",
   "execution_count": 2,
   "id": "7691a7c9",
   "metadata": {},
   "outputs": [
    {
     "ename": "SyntaxError",
     "evalue": "EOL while scanning string literal (3956935761.py, line 1)",
     "output_type": "error",
     "traceback": [
      "\u001b[1;36m  File \u001b[1;32m\"C:\\Users\\hp\\AppData\\Local\\Temp\\ipykernel_5116\\3956935761.py\"\u001b[1;36m, line \u001b[1;32m1\u001b[0m\n\u001b[1;33m    print(\"Hello World!)\u001b[0m\n\u001b[1;37m                        ^\u001b[0m\n\u001b[1;31mSyntaxError\u001b[0m\u001b[1;31m:\u001b[0m EOL while scanning string literal\n"
     ]
    }
   ],
   "source": [
    "print(\"Hello World!)"
   ]
  },
  {
   "cell_type": "code",
   "execution_count": 4,
   "id": "55707c46",
   "metadata": {},
   "outputs": [
    {
     "name": "stdout",
     "output_type": "stream",
     "text": [
      "Hello World!\n",
      "Hello World!\n"
     ]
    }
   ],
   "source": [
    "#\\n --> New Line\n",
    "print(\"Hello World!\\nHello World!\")"
   ]
  },
  {
   "cell_type": "code",
   "execution_count": 5,
   "id": "aba02f53",
   "metadata": {},
   "outputs": [
    {
     "name": "stdout",
     "output_type": "stream",
     "text": [
      "HelloAngela\n"
     ]
    }
   ],
   "source": [
    "# Two String Combine into One \n",
    "print(\"Hello\"+\"Pranjali\")"
   ]
  },
  {
   "cell_type": "code",
   "execution_count": 7,
   "id": "4333cb85",
   "metadata": {},
   "outputs": [
    {
     "name": "stdout",
     "output_type": "stream",
     "text": [
      "Hello Pranjali\n"
     ]
    }
   ],
   "source": [
    "#Giving same after Hello\n",
    "print(\"Hello \"+\"Pranjali\")"
   ]
  },
  {
   "cell_type": "code",
   "execution_count": 8,
   "id": "5912b55c",
   "metadata": {},
   "outputs": [
    {
     "name": "stdout",
     "output_type": "stream",
     "text": [
      "Hello Pranjali\n"
     ]
    }
   ],
   "source": [
    "#Giving space after Pranjali\n",
    "print(\"Hello\"+\" Pranjali\")"
   ]
  },
  {
   "cell_type": "code",
   "execution_count": 9,
   "id": "b772cb15",
   "metadata": {},
   "outputs": [
    {
     "name": "stdout",
     "output_type": "stream",
     "text": [
      "Hello Pranjali\n"
     ]
    }
   ],
   "source": [
    "#String Concatenation\n",
    "print(\"Hello\"+\" \"+\"Pranjali\")"
   ]
  },
  {
   "cell_type": "markdown",
   "id": "51bdf220",
   "metadata": {},
   "source": [
    "Exercise"
   ]
  },
  {
   "cell_type": "code",
   "execution_count": 10,
   "id": "732ce097",
   "metadata": {},
   "outputs": [
    {
     "name": "stdout",
     "output_type": "stream",
     "text": [
      "Day 1 - String Manipulation\n"
     ]
    }
   ],
   "source": [
    "print(\"Day 1 - String Manipulation\")"
   ]
  },
  {
   "cell_type": "code",
   "execution_count": 11,
   "id": "d7eedebb",
   "metadata": {},
   "outputs": [
    {
     "name": "stdout",
     "output_type": "stream",
     "text": [
      "String Concatenation is done with the \"+\" sign.\n"
     ]
    }
   ],
   "source": [
    "print('String Concatenation is done with the \"+\" sign.')"
   ]
  },
  {
   "cell_type": "code",
   "execution_count": 12,
   "id": "32ef8a9c",
   "metadata": {},
   "outputs": [
    {
     "name": "stdout",
     "output_type": "stream",
     "text": [
      "e.g. print(\"Hello\" + \"World\")\n"
     ]
    }
   ],
   "source": [
    "print('e.g. print(\"Hello\" + \"World\")')"
   ]
  },
  {
   "cell_type": "code",
   "execution_count": 13,
   "id": "db668ab8",
   "metadata": {},
   "outputs": [
    {
     "name": "stdout",
     "output_type": "stream",
     "text": [
      "New lines can be created with a blackslash and n.\n"
     ]
    }
   ],
   "source": [
    "print(\"New lines can be created with a blackslash and n.\")"
   ]
  },
  {
   "cell_type": "markdown",
   "id": "f3caa627",
   "metadata": {},
   "source": [
    "input() function"
   ]
  },
  {
   "cell_type": "code",
   "execution_count": 14,
   "id": "99e7bab9",
   "metadata": {},
   "outputs": [
    {
     "name": "stdout",
     "output_type": "stream",
     "text": [
      "A prompt for the userYes\n"
     ]
    },
    {
     "data": {
      "text/plain": [
       "'Yes'"
      ]
     },
     "execution_count": 14,
     "metadata": {},
     "output_type": "execute_result"
    }
   ],
   "source": [
    "input(\"A prompt for the user\")"
   ]
  },
  {
   "cell_type": "code",
   "execution_count": 15,
   "id": "df0503f4",
   "metadata": {},
   "outputs": [
    {
     "name": "stdout",
     "output_type": "stream",
     "text": [
      "What is ypur name?Pranjali\n"
     ]
    },
    {
     "data": {
      "text/plain": [
       "'Pranjali'"
      ]
     },
     "execution_count": 15,
     "metadata": {},
     "output_type": "execute_result"
    }
   ],
   "source": [
    "input(\"What is ypur name?\")"
   ]
  },
  {
   "cell_type": "code",
   "execution_count": 16,
   "id": "f2dbbbfa",
   "metadata": {},
   "outputs": [
    {
     "name": "stdout",
     "output_type": "stream",
     "text": [
      "What is your name?Pranjali\n",
      "Hello Pranjali\n"
     ]
    }
   ],
   "source": [
    "print(\"Hello \" + input(\"What is your name?\"))"
   ]
  },
  {
   "cell_type": "code",
   "execution_count": 17,
   "id": "8398a62e",
   "metadata": {},
   "outputs": [
    {
     "name": "stdout",
     "output_type": "stream",
     "text": [
      "What is your namePranjali\n",
      "HelloPranjali!\n"
     ]
    }
   ],
   "source": [
    "print(\"Hello\" + input(\"What is your name\") + \"!\")"
   ]
  },
  {
   "cell_type": "code",
   "execution_count": 18,
   "id": "f314b084",
   "metadata": {},
   "outputs": [
    {
     "name": "stdout",
     "output_type": "stream",
     "text": [
      "What is your namePranjali\n",
      "HelloPranjali!\n"
     ]
    }
   ],
   "source": [
    "print(\"Hello\" + input(\"What is your name\") + \"!\")"
   ]
  },
  {
   "cell_type": "code",
   "execution_count": 19,
   "id": "0dacd0fa",
   "metadata": {},
   "outputs": [
    {
     "name": "stdout",
     "output_type": "stream",
     "text": [
      "What is your name?Pranjali\n",
      "Pranjali\n"
     ]
    }
   ],
   "source": [
    "name = input(\"What is your name?\")\n",
    "print(name)"
   ]
  },
  {
   "cell_type": "markdown",
   "id": "fee9b994",
   "metadata": {},
   "source": [
    "Variable"
   ]
  },
  {
   "cell_type": "code",
   "execution_count": 20,
   "id": "203665f7",
   "metadata": {},
   "outputs": [
    {
     "name": "stdout",
     "output_type": "stream",
     "text": [
      "Jack\n"
     ]
    }
   ],
   "source": [
    "name = \"Jack\"\n",
    "print(name)"
   ]
  },
  {
   "cell_type": "code",
   "execution_count": 21,
   "id": "d4253863",
   "metadata": {},
   "outputs": [
    {
     "name": "stdout",
     "output_type": "stream",
     "text": [
      "Pranjali\n"
     ]
    }
   ],
   "source": [
    "name = \"Pranjali\"\n",
    "print(name)"
   ]
  },
  {
   "cell_type": "code",
   "execution_count": 22,
   "id": "4d6cf9ad",
   "metadata": {},
   "outputs": [
    {
     "name": "stdout",
     "output_type": "stream",
     "text": [
      "What is your namePranjali\n",
      "8\n"
     ]
    }
   ],
   "source": [
    "print(len(input(\"What is your name\")))"
   ]
  },
  {
   "cell_type": "code",
   "execution_count": 1,
   "id": "67d8fd90",
   "metadata": {},
   "outputs": [
    {
     "name": "stdout",
     "output_type": "stream",
     "text": [
      "What is your name?Pranjali\n",
      "8\n"
     ]
    }
   ],
   "source": [
    "name = input(\"What is your name?\")\n",
    "length = len(name)\n",
    "print(length)"
   ]
  },
  {
   "cell_type": "markdown",
   "id": "55c0f7c4",
   "metadata": {},
   "source": [
    "Project 1"
   ]
  },
  {
   "cell_type": "code",
   "execution_count": 3,
   "id": "026abb89",
   "metadata": {},
   "outputs": [
    {
     "name": "stdout",
     "output_type": "stream",
     "text": [
      "Welcome to the Band Name Generator\n"
     ]
    }
   ],
   "source": [
    "#1. Create a greeting for your program\n",
    "print(\"Welcome to the Band Name Generator\")"
   ]
  },
  {
   "cell_type": "code",
   "execution_count": 5,
   "id": "b32c9c1f",
   "metadata": {},
   "outputs": [
    {
     "name": "stdout",
     "output_type": "stream",
     "text": [
      "What's the name of the city you grew up in?\n",
      "Ballarpur\n"
     ]
    }
   ],
   "source": [
    "#2. Ask the user for the city that they grew up in\n",
    "city = input(\"What's the name of the city you grew up in?\\n\")"
   ]
  },
  {
   "cell_type": "code",
   "execution_count": 7,
   "id": "c90f65af",
   "metadata": {},
   "outputs": [
    {
     "name": "stdout",
     "output_type": "stream",
     "text": [
      "What's your pet's name?\n",
      "Pluto\n"
     ]
    }
   ],
   "source": [
    "#3. Ask the user for the name of a pet\n",
    "pet = input(\"What's your pet's name?\\n\")"
   ]
  },
  {
   "cell_type": "code",
   "execution_count": 10,
   "id": "164011e4",
   "metadata": {},
   "outputs": [
    {
     "name": "stdout",
     "output_type": "stream",
     "text": [
      "Your band name could be Ballarpur Pluto\n"
     ]
    }
   ],
   "source": [
    "#4. Combine the name of their city and pet and show them their band name.\n",
    "print(\"Your band name could be\" +\" \" +  city + \" \" + pet)"
   ]
  },
  {
   "cell_type": "code",
   "execution_count": null,
   "id": "f9af66ef",
   "metadata": {},
   "outputs": [],
   "source": []
  }
 ],
 "metadata": {
  "kernelspec": {
   "display_name": "Python 3 (ipykernel)",
   "language": "python",
   "name": "python3"
  },
  "language_info": {
   "codemirror_mode": {
    "name": "ipython",
    "version": 3
   },
   "file_extension": ".py",
   "mimetype": "text/x-python",
   "name": "python",
   "nbconvert_exporter": "python",
   "pygments_lexer": "ipython3",
   "version": "3.9.13"
  }
 },
 "nbformat": 4,
 "nbformat_minor": 5
}
